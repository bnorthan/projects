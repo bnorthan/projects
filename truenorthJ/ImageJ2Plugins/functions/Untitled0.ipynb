{
 "metadata": {
  "name": ""
 },
 "nbformat": 3,
 "nbformat_minor": 0,
 "worksheets": [
  {
   "cells": [
    {
     "cell_type": "code",
     "collapsed": false,
     "input": [
      "%%script jython\n",
      "print 'hello'"
     ],
     "language": "python",
     "metadata": {},
     "outputs": [
      {
       "output_type": "stream",
       "stream": "stdout",
       "text": [
        "hello\n"
       ]
      },
      {
       "output_type": "stream",
       "stream": "stderr",
       "text": [
        "\"my\" variable $jythonHome masks earlier declaration in same scope at /usr/bin/jython line 15.\n",
        "Jython 2.5.3 (, Nov 21 2013, 23:15:42) \n",
        "[OpenJDK 64-Bit Server VM (Sun Microsystems Inc.)] on java1.6.0_31\n",
        "Type \"help\", \"copyright\", \"credits\" or \"license\" for more information.\n",
        "\n"
       ]
      }
     ],
     "prompt_number": 3
    },
    {
     "cell_type": "code",
     "collapsed": false,
     "input": [],
     "language": "python",
     "metadata": {},
     "outputs": []
    }
   ],
   "metadata": {}
  }
 ]
}